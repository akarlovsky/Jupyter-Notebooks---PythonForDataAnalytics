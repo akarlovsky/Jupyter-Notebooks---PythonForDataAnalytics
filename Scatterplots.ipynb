{
 "cells": [
  {
   "cell_type": "markdown",
   "metadata": {},
   "source": [
    "Scatterplots:\n",
    "\n",
    "1) Pay Attention to your 'Alpha'. Saturation can mislead you.\n",
    "2) You can adjust dot sizes in Mat plot lib.\n",
    "3) Consider that rounding can affect your data. Gaussian noise(Jitter Data) can help.\n",
    "4) If you have a lot of data, consider a 'hex bin' plot, which 'bins' the data to reduce render time.\n",
    "\n",
    "Even good scatter plots don't always show the relationship between two variables clearly. Consider Alternate Visualizatiosn.|\n",
    "                                                                                                                            V\n",
    "\n",
    "You can turn 'scatterplot' data into CDFs (Cumulative Density Functions) by 'binning' the data according to one axis and calculating an individual CDF based on the 2nd axis for each bin. This lets you compare the distributions.\n",
    "\n",
    "You can also take this a step further and calculate the medians for each 'bin' by percentile.\n",
    "\n",
    "\n"
   ]
  }
 ],
 "metadata": {
  "kernelspec": {
   "display_name": "Python 3",
   "language": "python",
   "name": "python3"
  },
  "language_info": {
   "codemirror_mode": {
    "name": "ipython",
    "version": 3
   },
   "file_extension": ".py",
   "mimetype": "text/x-python",
   "name": "python",
   "nbconvert_exporter": "python",
   "pygments_lexer": "ipython3",
   "version": "3.5.1"
  }
 },
 "nbformat": 4,
 "nbformat_minor": 0
}
